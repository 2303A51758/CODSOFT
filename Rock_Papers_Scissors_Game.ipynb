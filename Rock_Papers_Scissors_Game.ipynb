{
  "nbformat": 4,
  "nbformat_minor": 0,
  "metadata": {
    "colab": {
      "provenance": [],
      "authorship_tag": "ABX9TyMueXgpFiZQdKqHHPLmmSkL",
      "include_colab_link": true
    },
    "kernelspec": {
      "name": "python3",
      "display_name": "Python 3"
    },
    "language_info": {
      "name": "python"
    }
  },
  "cells": [
    {
      "cell_type": "markdown",
      "metadata": {
        "id": "view-in-github",
        "colab_type": "text"
      },
      "source": [
        "<a href=\"https://colab.research.google.com/github/2303A51758/CODSOFT/blob/internship/Rock_Papers_Scissors_Game.ipynb\" target=\"_parent\"><img src=\"https://colab.research.google.com/assets/colab-badge.svg\" alt=\"Open In Colab\"/></a>"
      ]
    },
    {
      "cell_type": "markdown",
      "source": [
        "This sounds like a rock-paper-scissors game! Let me create a simple python implementation for it with all the requested features.Below is the code:"
      ],
      "metadata": {
        "id": "NdWE5_c7PhIy"
      }
    },
    {
      "cell_type": "code",
      "source": [
        "import random\n",
        "def rock_paper_scissors():\n",
        "  print(\"welcome to rock,paper,scissors!]\")\n",
        "  user_score=0\n",
        "  computer_score=0\n",
        "  while true:\n",
        "    print(\"\\nChoose one: rock,paper, or scissors (or type 'quit' to exit)\")\n",
        "    user_choice=input(\"your choice:\").lower()\n",
        "\n",
        "    if user_choice==\"quit\":\n",
        "      print(f\"\\nfinal score:you {user_score}-{computer_score} computer\")\n",
        "      print(\"thanks for playing! goodbye!\")\n",
        "      break\n",
        "    if user_choice not in [\"rock\",\"paper\",\"scissors\"]:\n",
        "\n",
        "      print(\"invalid choice! please try again.\")\n",
        "      continue\n",
        "      computer_choice=random.choice([\"rock\",\"paper\",\"scissors\"])\n",
        "      print(f\"computer chose: {computer_choice}\")\n",
        "      if user_choice==computer_choice:\n",
        "        print(\"It's a tie!\")\n",
        "      elif(user_choice==\"rock\" and computer_choice==\"scissors\") or \\\n",
        "            (user_choice==\"scissors\" and computer_choice==\"paper\") or \\\n",
        "            (user_choice==\"paper\" and computer_choice==\"rock\"):\n",
        "            print(\"You win this round!\")\n",
        "            user_score+= 1\n",
        "      else:\n",
        "        print(\"You lose this round!\")\n",
        "        computer_score += 1\n",
        "\n",
        "        print(f\"score: You {user_score}-{computer_score} computer\")\n",
        "        rock_paper_scissors()\n",
        "\n",
        "\n",
        "\n"
      ],
      "metadata": {
        "id": "4UtdwBtvP9mg"
      },
      "execution_count": 15,
      "outputs": []
    }
  ]
}