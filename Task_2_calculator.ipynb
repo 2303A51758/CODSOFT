{
  "nbformat": 4,
  "nbformat_minor": 0,
  "metadata": {
    "colab": {
      "provenance": [],
      "authorship_tag": "ABX9TyPf7bVG12RdgVAcllPcf4Nz",
      "include_colab_link": true
    },
    "kernelspec": {
      "name": "python3",
      "display_name": "Python 3"
    },
    "language_info": {
      "name": "python"
    }
  },
  "cells": [
    {
      "cell_type": "markdown",
      "metadata": {
        "id": "view-in-github",
        "colab_type": "text"
      },
      "source": [
        "<a href=\"https://colab.research.google.com/github/2303A51758/CODSOFT/blob/internship/Task_2_calculator.ipynb\" target=\"_parent\"><img src=\"https://colab.research.google.com/assets/colab-badge.svg\" alt=\"Open In Colab\"/></a>"
      ]
    },
    {
      "cell_type": "markdown",
      "source": [
        "Here's a simple python program for a basic calculator:"
      ],
      "metadata": {
        "id": "PX2Si44P1N61"
      }
    },
    {
      "cell_type": "code",
      "source": [
        "def calculator():\n",
        "  print(\"simple calculator\")\n",
        "  print(\"choose an operation\")\n",
        "  print(\"1. Addition(+)\")\n",
        "  print(\"2. subtraction (-)\")\n",
        "  print(\"3. multiplication(*)\")\n",
        "  print(\"4. Division(/)\")\n",
        "  operation=input(\"Enter the number of the operation(1/2/3/4): \")\n",
        "  if operation not in ['1','2','3','4']:\n",
        "      print(\"Invalid choice! please choose a valid operation.\")\n",
        "      return\n",
        "  try:\n",
        "      num1 = float(input(\"Enter the first number: \"))\n",
        "      num2 = float(input(\"Enter the second number: \"))\n",
        "  except ValueError:\n",
        "      print(\"Invalid input! please enter numeric values\")\n",
        "      return\n",
        "  if operation == '1' :\n",
        "      result = num1 + num2\n",
        "      print(f\"The result of {num1} + {num2} is: {result}\")\n",
        "  elif operation == '2':\n",
        "      result = num1 - num2\n",
        "      print(f\"The result of {num1} - {num2} is: {result}\")\n",
        "  elif operation == '3':\n",
        "       result = num1 * num2\n",
        "       print(f\"The result of {num1} * {num2} is: {result}\")\n",
        "  elif operation == '4':\n",
        "      if num2 !=0:\n",
        "         result = num1 /num2\n",
        "         print(f\"The result of {num1} / {num2} is: {result}\")\n",
        "      else:\n",
        "         print(\"Error:Division by zero is not allowed.\")\n",
        "\n",
        "#Run the calculator\n",
        "calculator()\n",
        "\n",
        "\n",
        "\n"
      ],
      "metadata": {
        "colab": {
          "base_uri": "https://localhost:8080/"
        },
        "id": "LsIIqrtv1YB5",
        "outputId": "ffd6af0e-d29a-4951-d934-ade37ad11585"
      },
      "execution_count": null,
      "outputs": [
        {
          "output_type": "stream",
          "name": "stdout",
          "text": [
            "simple calculator\n",
            "choose an operation\n",
            "1. Addition(+)\n",
            "2. subtraction (-)\n",
            "3. multiplication(*)\n",
            "4. Division(/)\n",
            "Enter the number of the operation(1/2/3/4): 2\n",
            "Enter the first number: 3\n",
            "Enter the second number: 4\n",
            "The result of 3.0 - 4.0 is: -1.0\n"
          ]
        }
      ]
    },
    {
      "cell_type": "markdown",
      "source": [
        "How it works:\n",
        "1.The program displays a menu with basic arithmetic operations.\n",
        "2.The user inputs their choice and two numbers.\n",
        "3.The program performs the operation and displays the result.\n",
        "4.Input validation ensures the program handles invalid entries gracefully."
      ],
      "metadata": {
        "id": "7oM9Nv0b6dTy"
      }
    }
  ]
}