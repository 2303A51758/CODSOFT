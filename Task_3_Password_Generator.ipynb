{
  "nbformat": 4,
  "nbformat_minor": 0,
  "metadata": {
    "colab": {
      "provenance": [],
      "authorship_tag": "ABX9TyN5nwqynUAXLp9pyOA/CGpn",
      "include_colab_link": true
    },
    "kernelspec": {
      "name": "python3",
      "display_name": "Python 3"
    },
    "language_info": {
      "name": "python"
    }
  },
  "cells": [
    {
      "cell_type": "markdown",
      "metadata": {
        "id": "view-in-github",
        "colab_type": "text"
      },
      "source": [
        "<a href=\"https://colab.research.google.com/github/2303A51758/CODSOFT/blob/internship/Task_3_Password_Generator.ipynb\" target=\"_parent\"><img src=\"https://colab.research.google.com/assets/colab-badge.svg\" alt=\"Open In Colab\"/></a>"
      ]
    },
    {
      "cell_type": "markdown",
      "source": [
        "Here's a python script that fulfills the requirements of your password generator application."
      ],
      "metadata": {
        "id": "Jr1nAwjejC-4"
      }
    },
    {
      "cell_type": "code",
      "source": [
        "import random\n",
        "import string\n",
        "def generate_password(length):\n",
        "    characters = string.ascii_letters + string.digits + string.punctuation\n",
        "    password = ' '.join(random.choice(characters) for _ in range(length))\n",
        "    return password\n",
        "def main():\n",
        "    try:\n",
        "       length=int(input(\"Enter the desired length of your password: \"))\n",
        "       if length <=0:\n",
        "           print(\"Password length must be greater than 0.\")\n",
        "           return\n",
        "       password = generate_password(length)\n",
        "       print(f\"Your generated password is: {password}\")\n",
        "    except ValueError:\n",
        "      print(\"Please enter a valid number.\")\n",
        "\n",
        "\n",
        "if __name__==\"__main__\":\n",
        "    main()"
      ],
      "metadata": {
        "colab": {
          "base_uri": "https://localhost:8080/"
        },
        "id": "40ueIdj3jZT1",
        "outputId": "b7fd8218-212a-4a5d-9671-a7166c3106e6"
      },
      "execution_count": 14,
      "outputs": [
        {
          "output_type": "stream",
          "name": "stdout",
          "text": [
            "Enter the desired length of your password: 3\n",
            "Your generated password is: 2 p w\n"
          ]
        }
      ]
    },
    {
      "cell_type": "markdown",
      "source": [
        "\n",
        "**How it works:**\n",
        "1.user input: The script prompts the user to input the desired password length.\n",
        "2.Password Generation:It uses random.choice to pick characters from a pool consisting of uppercase letters,lowercase letters,digits,and special characters.\n",
        "3.Display:The generated password is displayed to the user.\n"
      ],
      "metadata": {
        "id": "3DalJRKamRJ4"
      }
    },
    {
      "cell_type": "markdown",
      "source": [
        "**Steps to run:**\n",
        "1.save the script to a.py file(eg.,password_generator.py).\n",
        "2.Run the file in a python environment.\n",
        "3.Input the desired password length when prompted,and it will generate a random password."
      ],
      "metadata": {
        "id": "HbZYmy0intVz"
      }
    }
  ]
}